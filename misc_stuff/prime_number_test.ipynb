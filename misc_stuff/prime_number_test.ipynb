{
  "nbformat": 4,
  "nbformat_minor": 0,
  "metadata": {
    "colab": {
      "provenance": [],
      "authorship_tag": "ABX9TyOJ8mLYcpyBZFle2JdO8KsB",
      "include_colab_link": true
    },
    "kernelspec": {
      "name": "python3",
      "display_name": "Python 3"
    },
    "language_info": {
      "name": "python"
    }
  },
  "cells": [
    {
      "cell_type": "markdown",
      "metadata": {
        "id": "view-in-github",
        "colab_type": "text"
      },
      "source": [
        "<a href=\"https://colab.research.google.com/github/forvaidya/coding-practice/blob/main/misc_stuff/prime_number_test.ipynb\" target=\"_parent\"><img src=\"https://colab.research.google.com/assets/colab-badge.svg\" alt=\"Open In Colab\"/></a>"
      ]
    },
    {
      "cell_type": "code",
      "execution_count": 1,
      "metadata": {
        "id": "PstvU9F6c1Qk"
      },
      "outputs": [],
      "source": [
        "def isPrime(input :str):\n",
        "    non_prime_last_dig=[0, 2,4,5,6,8]\n",
        "    non_prime_single_digit = [4,6,8,9]\n",
        "    num_list = [int(item) for item in input]\n",
        "    \n",
        "    if len(num_list) == 1 :\n",
        "        if num_list[0] not in non_prime_single_digit :\n",
        "            return True\n",
        "    if num_list[-1] not in non_prime_last_dig:\n",
        "        if not sum(num_list) % 3 == 0:\n",
        "            return True\n",
        "    return False"
      ]
    },
    {
      "cell_type": "code",
      "source": [
        "isPrime(input(\"Number to test Primality: \"))"
      ],
      "metadata": {
        "colab": {
          "base_uri": "https://localhost:8080/"
        },
        "id": "GYrBXSupdH0_",
        "outputId": "e59bc25c-ee8f-45e1-b72a-1a9a4a5ba31c"
      },
      "execution_count": 4,
      "outputs": [
        {
          "name": "stdout",
          "output_type": "stream",
          "text": [
            "Number to test Primality: 5643\n"
          ]
        },
        {
          "output_type": "execute_result",
          "data": {
            "text/plain": [
              "False"
            ]
          },
          "metadata": {},
          "execution_count": 4
        }
      ]
    },
    {
      "cell_type": "code",
      "source": [],
      "metadata": {
        "id": "HHQuqdRodP-N"
      },
      "execution_count": null,
      "outputs": []
    },
    {
      "cell_type": "code",
      "source": [],
      "metadata": {
        "id": "KTdOU2HcdAf5"
      },
      "execution_count": null,
      "outputs": []
    }
  ]
}