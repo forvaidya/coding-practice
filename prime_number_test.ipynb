{
  "nbformat": 4,
  "nbformat_minor": 0,
  "metadata": {
    "colab": {
      "provenance": [],
      "authorship_tag": "ABX9TyM4A5WliO92tINxjBWmZimm",
      "include_colab_link": true
    },
    "kernelspec": {
      "name": "python3",
      "display_name": "Python 3"
    },
    "language_info": {
      "name": "python"
    }
  },
  "cells": [
    {
      "cell_type": "markdown",
      "metadata": {
        "id": "view-in-github",
        "colab_type": "text"
      },
      "source": [
        "<a href=\"https://colab.research.google.com/github/forvaidya/coding-practice/blob/main/prime_number_test.ipynb\" target=\"_parent\"><img src=\"https://colab.research.google.com/assets/colab-badge.svg\" alt=\"Open In Colab\"/></a>"
      ]
    },
    {
      "cell_type": "markdown",
      "source": [
        "### A cheap algorithm to test a prime number.\n",
        "\n",
        "Cost of this algorithm is 2L + 10, \n",
        "where is L is number of digits (lenght) of a Number.\n",
        "\n",
        "L * 1 = for traversing\n",
        "\n",
        "L * 1 = for summation\n",
        "\n",
        "1 = division\n",
        "\n",
        "5 = overhead\n",
        "\n",
        "### Traditional cost \n",
        "of testing prime number is $$\\sqrt{N}$$\n",
        " \n",
        "\n",
        "\n",
        "\n"
      ],
      "metadata": {
        "id": "yizc1O9zecXA"
      }
    },
    {
      "cell_type": "markdown",
      "source": [],
      "metadata": {
        "id": "HyHDRGpCis6z"
      }
    },
    {
      "cell_type": "code",
      "source": [],
      "metadata": {
        "id": "5ToxIjoViJVO"
      },
      "execution_count": null,
      "outputs": []
    },
    {
      "cell_type": "code",
      "execution_count": null,
      "metadata": {
        "id": "PstvU9F6c1Qk"
      },
      "outputs": [],
      "source": [
        "def isPrime(input :str):\n",
        "    non_prime_last_dig=[0, 2,4,5,6,8]\n",
        "    non_prime_single_digit = [4,6,8,9]\n",
        "    num_list = [int(item) for item in input]\n",
        "    \n",
        "    if len(num_list) == 1 :\n",
        "        if num_list[0] not in non_prime_single_digit :\n",
        "            return True\n",
        "    if num_list[-1] not in non_prime_last_dig:\n",
        "        if not sum(num_list) % 3 == 0:\n",
        "            return True\n",
        "    return False"
      ]
    },
    {
      "cell_type": "code",
      "source": [
        "isPrime(input(\"Number to test Primality: \"))"
      ],
      "metadata": {
        "colab": {
          "base_uri": "https://localhost:8080/"
        },
        "id": "GYrBXSupdH0_",
        "outputId": "3d722e6d-9236-41c9-e28e-c38901e9ab9f",
        "collapsed": true
      },
      "execution_count": null,
      "outputs": [
        {
          "name": "stdout",
          "output_type": "stream",
          "text": [
            "Number to test Primality: 65868775785875875741\n"
          ]
        },
        {
          "output_type": "execute_result",
          "data": {
            "text/plain": [
              "True"
            ]
          },
          "metadata": {},
          "execution_count": 7
        }
      ]
    },
    {
      "cell_type": "code",
      "source": [],
      "metadata": {
        "id": "HHQuqdRodP-N"
      },
      "execution_count": null,
      "outputs": []
    },
    {
      "cell_type": "code",
      "source": [],
      "metadata": {
        "id": "KTdOU2HcdAf5"
      },
      "execution_count": null,
      "outputs": []
    }
  ]
}
